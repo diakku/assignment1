{
 "cells": [
  {
   "cell_type": "markdown",
   "id": "9fb1cead",
   "metadata": {},
   "source": [
    "# ANS 1"
   ]
  },
  {
   "cell_type": "raw",
   "id": "148db516",
   "metadata": {},
   "source": [
    "* : expression\n",
    "'hello' : values\n",
    "-87.7 : values\n",
    "- : expression\n",
    "/ : expression\n",
    "+ : expression\n",
    "6 : values"
   ]
  },
  {
   "cell_type": "markdown",
   "id": "6a336492",
   "metadata": {},
   "source": [
    "# Ans 2"
   ]
  },
  {
   "cell_type": "raw",
   "id": "64efea1f",
   "metadata": {},
   "source": [
    "\"Variables are symbols that you can use to store data in a program. You can think of them as an empty box that you fill with some data or value. Strings are data, so we can use them to fill up a variable. Declaring strings as variables can make it easier for us to work with strings throughout our Python programs.\"\n",
    "                                                       or\n",
    "\"A Variable is a store of information, and a String is a type of information you would store in a Variable.\""
   ]
  },
  {
   "cell_type": "markdown",
   "id": "e57a9527",
   "metadata": {},
   "source": [
    "# Ans 3"
   ]
  },
  {
   "cell_type": "raw",
   "id": "57714e21",
   "metadata": {},
   "source": [
    "# Three Different type of Data-\n",
    "1-Integer: \"integers are zero, positive or negative whole numbers without a fractional part and having unlimited precision, e.g. 0, 100, -10. And represent by int()\"\n",
    "2-Float: \"A float point number, is a positive or negative whole number with a decimal point.e.g. 34.3,2.4,5.3. represent float()\"\n",
    "3-String:\"strings are arrays. String is a collection of alphabets, words or other characters. It is one of the primitive data structures and are the building blocks for data manipulation. Python has a built-in string class named str . Python strings are \"immutable\" which means they cannot be changed after they are created. Square bracket used to access of the element\"\n"
   ]
  },
  {
   "cell_type": "markdown",
   "id": "12161ec6",
   "metadata": {},
   "source": [
    "# Ans 4"
   ]
  },
  {
   "cell_type": "raw",
   "id": "50dbc69d",
   "metadata": {},
   "source": [
    "Expression is made up of values, containers, and mathematical operators (operands) e.g \n",
    "\n",
    "     a = 2 + 3     and expressions are used to evaluate the values or represent the result on the screen."
   ]
  },
  {
   "cell_type": "code",
   "execution_count": 4,
   "id": "727b4653",
   "metadata": {},
   "outputs": [
    {
     "name": "stdout",
     "output_type": "stream",
     "text": [
      "52\n",
      "28\n",
      "480\n",
      "3.3333333333333335\n"
     ]
    }
   ],
   "source": [
    "# Arithmetic Expressions\n",
    "x = 40\n",
    "y = 12\n",
    "  \n",
    "add = x + y\n",
    "sub = x - y\n",
    "pro = x * y\n",
    "div = x / y\n",
    "  \n",
    "print(add)\n",
    "print(sub)\n",
    "print(pro)\n",
    "print(div)"
   ]
  },
  {
   "cell_type": "markdown",
   "id": "cd3efcfe",
   "metadata": {},
   "source": [
    "# Ans 5"
   ]
  },
  {
   "cell_type": "raw",
   "id": "9345e305",
   "metadata": {},
   "source": [
    "spam = 10\n",
    "Expression is made up of values, containers, and mathematical operators (operands) and the statement is just like a command that a python interpreter executes like print."
   ]
  },
  {
   "cell_type": "markdown",
   "id": "54ea024f",
   "metadata": {},
   "source": [
    "# Ans 6"
   ]
  },
  {
   "cell_type": "raw",
   "id": "968256b7",
   "metadata": {},
   "source": [
    "bacon = 22\n",
    "bacon + 1\n",
    "It is execute code 23 "
   ]
  },
  {
   "cell_type": "code",
   "execution_count": 5,
   "id": "fc7838da",
   "metadata": {},
   "outputs": [
    {
     "data": {
      "text/plain": [
       "23"
      ]
     },
     "execution_count": 5,
     "metadata": {},
     "output_type": "execute_result"
    }
   ],
   "source": [
    "bacon = 22\n",
    "bacon + 1"
   ]
  },
  {
   "cell_type": "markdown",
   "id": "884f0947",
   "metadata": {},
   "source": [
    "# Ans 7"
   ]
  },
  {
   "cell_type": "code",
   "execution_count": 11,
   "id": "c82586b0",
   "metadata": {},
   "outputs": [
    {
     "data": {
      "text/plain": [
       "'spamspamspam'"
      ]
     },
     "execution_count": 11,
     "metadata": {},
     "output_type": "execute_result"
    }
   ],
   "source": [
    "'spam'+'spamspam'"
   ]
  },
  {
   "cell_type": "code",
   "execution_count": 12,
   "id": "d325298d",
   "metadata": {},
   "outputs": [
    {
     "data": {
      "text/plain": [
       "'spamspamspam'"
      ]
     },
     "execution_count": 12,
     "metadata": {},
     "output_type": "execute_result"
    }
   ],
   "source": [
    "'spam'*3"
   ]
  },
  {
   "cell_type": "markdown",
   "id": "35500ad4",
   "metadata": {},
   "source": [
    "# Ans 8"
   ]
  },
  {
   "cell_type": "raw",
   "id": "37c37437",
   "metadata": {},
   "source": [
    "eggs a valid variable name while 100 is invalid Because we can't start giving variable an integer name. if we, we should begin with, a string-like alphabet name then integer. e100 or eggs100 is valid."
   ]
  },
  {
   "cell_type": "markdown",
   "id": "a631e4c4",
   "metadata": {},
   "source": [
    "# Ans 9"
   ]
  },
  {
   "cell_type": "code",
   "execution_count": 9,
   "id": "5465f114",
   "metadata": {},
   "outputs": [
    {
     "data": {
      "text/plain": [
       "0"
      ]
     },
     "execution_count": 9,
     "metadata": {},
     "output_type": "execute_result"
    }
   ],
   "source": [
    "str()\n",
    "float()\n",
    "int()"
   ]
  },
  {
   "cell_type": "markdown",
   "id": "b556b808",
   "metadata": {},
   "source": [
    "# Ans 10"
   ]
  },
  {
   "cell_type": "raw",
   "id": "917c828a",
   "metadata": {},
   "source": [
    "'I have eaten' + 99 + 'burritos' "
   ]
  },
  {
   "cell_type": "raw",
   "id": "c2fb3db4",
   "metadata": {},
   "source": [
    "because 99 is an integer it cannot be concatenated with strings, if we have to concatenate it we need to do typecasting."
   ]
  }
 ],
 "metadata": {
  "kernelspec": {
   "display_name": "Python 3 (ipykernel)",
   "language": "python",
   "name": "python3"
  },
  "language_info": {
   "codemirror_mode": {
    "name": "ipython",
    "version": 3
   },
   "file_extension": ".py",
   "mimetype": "text/x-python",
   "name": "python",
   "nbconvert_exporter": "python",
   "pygments_lexer": "ipython3",
   "version": "3.9.12"
  }
 },
 "nbformat": 4,
 "nbformat_minor": 5
}
